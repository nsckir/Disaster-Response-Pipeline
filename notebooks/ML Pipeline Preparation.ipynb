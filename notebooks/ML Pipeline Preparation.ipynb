{
 "cells": [
  {
   "cell_type": "markdown",
   "metadata": {},
   "source": [
    "# ML Pipeline Preparation\n",
    "Follow the instructions below to help you create your ML pipeline.\n",
    "### 1. Import libraries and load data from database.\n",
    "- Import Python libraries\n",
    "- Load dataset from database with [`read_sql_table`](https://pandas.pydata.org/pandas-docs/stable/generated/pandas.read_sql_table.html)\n",
    "- Define feature and target variables X and Y"
   ]
  },
  {
   "cell_type": "code",
   "execution_count": 2,
   "metadata": {},
   "outputs": [
    {
     "name": "stderr",
     "output_type": "stream",
     "text": [
      "/Users/kiril/opt/anaconda3/envs/Project-2/lib/python3.9/site-packages/xgboost/compat.py:36: FutureWarning: pandas.Int64Index is deprecated and will be removed from pandas in a future version. Use pandas.Index with the appropriate dtype instead.\n",
      "  from pandas import MultiIndex, Int64Index\n"
     ]
    }
   ],
   "source": [
    "import re\n",
    "import time\n",
    "\n",
    "import nltk\n",
    "import numpy as np\n",
    "import pandas as pd\n",
    "from nltk.corpus import stopwords\n",
    "from nltk.stem import WordNetLemmatizer\n",
    "from nltk.tokenize import word_tokenize\n",
    "\n",
    "from sklearn.feature_extraction.text import CountVectorizer, TfidfTransformer\n",
    "from sklearn.linear_model import LogisticRegression, SGDClassifier\n",
    "from sklearn.metrics import classification_report\n",
    "from sklearn.model_selection import GridSearchCV\n",
    "from sklearn.model_selection import train_test_split\n",
    "from sklearn.multioutput import MultiOutputClassifier\n",
    "from sklearn.pipeline import Pipeline\n",
    "from sklearn.ensemble import RandomForestClassifier\n",
    "from sklearn.base import BaseEstimator, TransformerMixin\n",
    "from xgboost import XGBClassifier\n",
    "\n",
    "from sqlalchemy import create_engine"
   ]
  },
  {
   "cell_type": "code",
   "execution_count": 4,
   "metadata": {},
   "outputs": [
    {
     "name": "stderr",
     "output_type": "stream",
     "text": [
      "[nltk_data] Downloading package punkt to /Users/kiril/nltk_data...\n",
      "[nltk_data]   Package punkt is already up-to-date!\n",
      "[nltk_data] Downloading package wordnet to /Users/kiril/nltk_data...\n",
      "[nltk_data]   Package wordnet is already up-to-date!\n",
      "[nltk_data] Downloading package averaged_perceptron_tagger to\n",
      "[nltk_data]     /Users/kiril/nltk_data...\n",
      "[nltk_data]   Package averaged_perceptron_tagger is already up-to-\n",
      "[nltk_data]       date!\n",
      "[nltk_data] Downloading package omw-1.4 to /Users/kiril/nltk_data...\n",
      "[nltk_data]   Package omw-1.4 is already up-to-date!\n",
      "[nltk_data] Downloading package stopwords to /Users/kiril/nltk_data...\n",
      "[nltk_data]   Package stopwords is already up-to-date!\n"
     ]
    }
   ],
   "source": [
    "nltk.download(['punkt',\n",
    "               'wordnet',\n",
    "               'averaged_perceptron_tagger',\n",
    "               'omw-1.4',\n",
    "               'stopwords'])\n",
    "\n",
    "pd.set_option('display.max_rows', 100)\n",
    "pd.set_option('display.max_columns', 100)\n",
    "\n",
    "np.random.seed(42)\n",
    "\n",
    "engine = create_engine('sqlite:///../Data/DisasterResponse.db')"
   ]
  },
  {
   "cell_type": "code",
   "execution_count": 5,
   "metadata": {},
   "outputs": [
    {
     "name": "stdout",
     "output_type": "stream",
     "text": [
      "Original shape                        (26216, 40)\n",
      "\n",
      "Shape of X (26216,)\n",
      "Shape of Y (26216, 36)\n"
     ]
    }
   ],
   "source": [
    "# load data from database\n",
    "df = pd.read_sql_table('DisasterResponse', engine)\n",
    "print( f'Original shape                        {df.shape}')\n",
    "\n",
    "non_categories = ['id', 'message', 'original', 'genre']\n",
    "\n",
    "categories = df.columns.drop(non_categories)\n",
    "    \n",
    "# Split in features and targets\n",
    "X = df['message'].values\n",
    "\n",
    "Y = df.drop(non_categories, axis=1).values\n",
    "\n",
    "categories = df.columns.drop(non_categories)\n",
    "\n",
    "print( f'\\nShape of X {X.shape}')\n",
    "print( f'Shape of Y {Y.shape}')"
   ]
  },
  {
   "cell_type": "markdown",
   "metadata": {},
   "source": [
    "### 2. Write a tokenization function to process your text data"
   ]
  },
  {
   "cell_type": "code",
   "execution_count": 6,
   "metadata": {},
   "outputs": [],
   "source": [
    "url_regex = r'((http|https)\\:\\/\\/)?[a-zA-Z0-9\\.\\/\\?\\:@\\-_=#]+\\.([a-zA-Z]){2,6}([a-zA-Z0-9\\.\\&\\/\\?\\:@\\-_=#])*'\n",
    "url_regex_comp = re.compile(url_regex, re.IGNORECASE)\n",
    "\n",
    "letters_regex = r'[^a-zA-Z0-9]'\n",
    "letters_regex_comp = re.compile(letters_regex, re.IGNORECASE)\n",
    "    \n",
    "def tokenize(text):\n",
    "   \n",
    "    text = url_regex_comp.sub(\"urlplaceholder\", text)\n",
    "\n",
    "    text = letters_regex_comp.sub(\" \", text)\n",
    "\n",
    "    # tokenize text\n",
    "    tokens = word_tokenize(text)\n",
    "   \n",
    "    # initiate lemmatizer\n",
    "    lemmatizer = WordNetLemmatizer()\n",
    "\n",
    "    # iterate through each token\n",
    "    clean_tokens = [lemmatizer.lemmatize(tok).lower().strip() for tok in tokens]\n",
    "\n",
    "    return clean_tokens\n"
   ]
  },
  {
   "cell_type": "markdown",
   "metadata": {},
   "source": [
    "### 3. Build a machine learning pipeline\n",
    "This machine pipeline should take in the `message` column as input and output classification results on the other 36 categories in the dataset. You may find the [MultiOutputClassifier](http://scikit-learn.org/stable/modules/generated/sklearn.multioutput.MultiOutputClassifier.html) helpful for predicting multiple target variables."
   ]
  },
  {
   "cell_type": "code",
   "execution_count": 7,
   "metadata": {},
   "outputs": [],
   "source": [
    "stop_words = set(tokenize(' '.join(stopwords.words('english'))))\n",
    "\n",
    "count_vectorizer = CountVectorizer(tokenizer=tokenize,\n",
    "                                   stop_words=stop_words, max_df=0.5\n",
    "                                  )\n",
    "\n",
    "tf_idf = TfidfTransformer(smooth_idf=True)\n",
    "\n",
    "tf_idf_vect = Pipeline([('vect', count_vectorizer),\n",
    "                        ('tf_idf', tf_idf)\n",
    "                       ])\n",
    "\n",
    "\n",
    "classifier = LogisticRegression(class_weight='balanced', max_iter=1000, n_jobs=-1)\n",
    "\n",
    "pipeline = Pipeline([('prep', tf_idf_vect), \n",
    "                     ('clf', MultiOutputClassifier(classifier))\n",
    "                    ],\n",
    "                    verbose=1\n",
    "                   )"
   ]
  },
  {
   "cell_type": "markdown",
   "metadata": {},
   "source": [
    "### 4. Train pipeline\n",
    "- Split data into train and test sets\n",
    "- Train pipeline"
   ]
  },
  {
   "cell_type": "code",
   "execution_count": 8,
   "metadata": {
    "scrolled": true
   },
   "outputs": [
    {
     "name": "stdout",
     "output_type": "stream",
     "text": [
      "[Pipeline] .............. (step 1 of 2) Processing prep, total=   6.8s\n",
      "[Pipeline] ............... (step 2 of 2) Processing clf, total=  28.0s\n",
      "--- 34.86955213546753 seconds ---\n"
     ]
    }
   ],
   "source": [
    "X_train, X_test, Y_train, Y_test = train_test_split(X, Y)\n",
    "\n",
    "start_time = time.time()\n",
    "pipeline.fit(X_train, Y_train)\n",
    "print(\"--- %s seconds ---\" % (time.time() - start_time))\n"
   ]
  },
  {
   "cell_type": "markdown",
   "metadata": {},
   "source": [
    "### 5. Test your model\n",
    "Report the f1 score, precision and recall for each output category of the dataset. You can do this by iterating through the columns and calling sklearn's `classification_report` on each."
   ]
  },
  {
   "cell_type": "code",
   "execution_count": 9,
   "metadata": {},
   "outputs": [],
   "source": [
    "def eval_model(model, X_test, categories):\n",
    "    Y_pred = model.predict(X_test)\n",
    "\n",
    "    print(classification_report(Y_test, Y_pred, target_names=categories))"
   ]
  },
  {
   "cell_type": "code",
   "execution_count": 10,
   "metadata": {},
   "outputs": [
    {
     "name": "stdout",
     "output_type": "stream",
     "text": [
      "                        precision    recall  f1-score   support\n",
      "\n",
      "               request       0.60      0.74      0.67      1111\n",
      "                 offer       0.05      0.09      0.06        33\n",
      "           aid_related       0.72      0.74      0.73      2670\n",
      "          medical_help       0.37      0.65      0.48       535\n",
      "      medical_products       0.34      0.64      0.44       344\n",
      "     search_and_rescue       0.16      0.40      0.23       159\n",
      "              security       0.08      0.17      0.11       116\n",
      "              military       0.38      0.67      0.48       200\n",
      "                 water       0.58      0.86      0.69       418\n",
      "                  food       0.73      0.85      0.78       745\n",
      "               shelter       0.56      0.79      0.65       581\n",
      "              clothing       0.40      0.67      0.50        98\n",
      "                 money       0.27      0.66      0.39       133\n",
      "        missing_people       0.18      0.42      0.26        73\n",
      "              refugees       0.27      0.63      0.38       215\n",
      "                 death       0.49      0.76      0.59       297\n",
      "             other_aid       0.32      0.58      0.42       864\n",
      "infrastructure_related       0.19      0.46      0.27       411\n",
      "             transport       0.25      0.48      0.33       303\n",
      "             buildings       0.40      0.74      0.52       323\n",
      "           electricity       0.41      0.56      0.47       147\n",
      "                 tools       0.10      0.14      0.11        43\n",
      "             hospitals       0.15      0.45      0.23        56\n",
      "                 shops       0.02      0.04      0.03        24\n",
      "           aid_centers       0.15      0.37      0.22        81\n",
      "  other_infrastructure       0.17      0.43      0.25       283\n",
      "       weather_related       0.76      0.81      0.79      1773\n",
      "                floods       0.55      0.70      0.62       519\n",
      "                 storm       0.62      0.83      0.71       605\n",
      "                  fire       0.33      0.41      0.37        66\n",
      "            earthquake       0.81      0.85      0.83       590\n",
      "                  cold       0.45      0.67      0.54       141\n",
      "         other_weather       0.24      0.53      0.33       335\n",
      "         direct_report       0.52      0.67      0.59      1272\n",
      "             related_1       0.91      0.81      0.86      4944\n",
      "             related_2       0.37      0.53      0.44        47\n",
      "\n",
      "             micro avg       0.56      0.73      0.63     20555\n",
      "             macro avg       0.39      0.58      0.45     20555\n",
      "          weighted avg       0.63      0.73      0.66     20555\n",
      "           samples avg       0.42      0.54      0.43     20555\n",
      "\n"
     ]
    },
    {
     "name": "stderr",
     "output_type": "stream",
     "text": [
      "/Users/kiril/opt/anaconda3/envs/Project-2/lib/python3.9/site-packages/sklearn/metrics/_classification.py:1318: UndefinedMetricWarning: Precision and F-score are ill-defined and being set to 0.0 in samples with no predicted labels. Use `zero_division` parameter to control this behavior.\n",
      "  _warn_prf(average, modifier, msg_start, len(result))\n",
      "/Users/kiril/opt/anaconda3/envs/Project-2/lib/python3.9/site-packages/sklearn/metrics/_classification.py:1318: UndefinedMetricWarning: Recall and F-score are ill-defined and being set to 0.0 in samples with no true labels. Use `zero_division` parameter to control this behavior.\n",
      "  _warn_prf(average, modifier, msg_start, len(result))\n"
     ]
    }
   ],
   "source": [
    "eval_model(pipeline, X_test, categories)"
   ]
  },
  {
   "cell_type": "markdown",
   "metadata": {},
   "source": [
    "### 6. Improve your model\n",
    "Use grid search to find better parameters. "
   ]
  },
  {
   "cell_type": "code",
   "execution_count": null,
   "metadata": {},
   "outputs": [],
   "source": [
    "# specify parameters for grid search\n",
    "\n",
    "params = [\n",
    "    {   \n",
    "        'prep__vect__max_df': [0.5, 1.0],\n",
    "        'prep__vect__max_features': [300, 1000, 1500],\n",
    "        'prep__vect__min_df': [1, 5, 10],\n",
    "                \n",
    "        'clf__estimator': [LogisticRegression()],   \n",
    "        'clf__estimator__class_weight': ['balanced'],\n",
    "        'clf__estimator__C': [0.1, 1, 10],\n",
    "        'clf__estimator__n_jobs': [-1],\n",
    "        'clf__estimator__max_iter': [1000],\n",
    "    },\n",
    "\n",
    "    \n",
    "    {   \n",
    "        'prep__vect__max_df': [0.5, 1.0],\n",
    "        'prep__vect__max_features': [300, 1000, 1500],\n",
    "        'prep__vect__min_df': [1, 5, 10],\n",
    "                \n",
    "        'clf__estimator': [XGBClassifier()],   \n",
    "        'clf__estimator__scale_pos_weight': [10, 25, 50],\n",
    "        'clf__estimator__n_jobs': [-1],\n",
    "        'clf__estimator__objective': ['binary:logistic'],\n",
    "        'clf__estimator__eval_metric': ['auc'],\n",
    "    },\n",
    "]\n",
    "\n",
    "\n",
    "# create grid search object\n",
    "cv1 = GridSearchCV(pipeline, \n",
    "                   param_grid=params,\n",
    "                   cv=3,\n",
    "                   scoring='f1_macro',\n",
    "                   verbose=1,\n",
    "                   n_jobs=-1\n",
    "                  )"
   ]
  },
  {
   "cell_type": "code",
   "execution_count": null,
   "metadata": {
    "scrolled": true
   },
   "outputs": [],
   "source": [
    "start_time = time.time()\n",
    "cv1.fit(X_train, Y_train)\n",
    "print(\"--- %s seconds ---\" % (time.time() - start_time))\n"
   ]
  },
  {
   "cell_type": "code",
   "execution_count": null,
   "metadata": {},
   "outputs": [],
   "source": [
    "print(\"\\nBest Parameters:\", cv1.best_params_)"
   ]
  },
  {
   "cell_type": "code",
   "execution_count": null,
   "metadata": {
    "scrolled": false
   },
   "outputs": [],
   "source": [
    "print(\"\\nBest Score:\", cv1.best_score_)"
   ]
  },
  {
   "cell_type": "markdown",
   "metadata": {},
   "source": [
    "### 7. Test your model\n",
    "Show the accuracy, precision, and recall of the tuned model.  \n",
    "\n",
    "Since this project focuses on code quality, process, and  pipelines, there is no minimum performance metric needed to pass. However, make sure to fine tune your models for accuracy, precision and recall to make your project stand out - especially for your portfolio!"
   ]
  },
  {
   "cell_type": "code",
   "execution_count": null,
   "metadata": {},
   "outputs": [],
   "source": [
    "eval_model(cv1, X_test, categories)"
   ]
  },
  {
   "cell_type": "markdown",
   "metadata": {},
   "source": [
    "### 8. Try improving your model further. Here are a few ideas:\n",
    "* try other machine learning algorithms\n",
    "* add other features besides the TF-IDF"
   ]
  },
  {
   "cell_type": "code",
   "execution_count": null,
   "metadata": {},
   "outputs": [],
   "source": [
    "import spacy\n",
    "nlp = spacy.load(\"en_core_web_lg\")"
   ]
  },
  {
   "cell_type": "code",
   "execution_count": null,
   "metadata": {},
   "outputs": [],
   "source": [
    "class WordVectorVectorizer(TransformerMixin,BaseEstimator):\n",
    "    def __init__(self, model=\"en_core_web_lg\"):\n",
    "        self.model = model\n",
    "\n",
    "    def fit(self,X,y=None):\n",
    "        return self\n",
    "\n",
    "    def transform(self,X):\n",
    "        nlp = spacy.load(self.model)\n",
    "        return np.concatenate([nlp(doc).vector.reshape(1,-1) for doc in X])\n",
    "    \n",
    "    \n",
    "class MessageLengthTransformer(TransformerMixin,BaseEstimator):\n",
    "#     def __init__(self):\n",
    "#         pass\n",
    "        \n",
    "    def fit(self,X,y=None):\n",
    "        return self\n",
    "\n",
    "    def transform(self,X):\n",
    "        return np.reshape([len(doc) for doc in X], (-1, 1))\n",
    "    \n",
    "    \n",
    "class NumberOfUrlsTransformer(TransformerMixin,BaseEstimator):\n",
    "    def __init__(self):\n",
    "        url_regex = '((http|https)\\:\\/\\/)?[a-zA-Z0-9\\.\\/\\?\\:@\\-_=#]+\\.([a-zA-Z]){2,6}([a-zA-Z0-9\\.\\&\\/\\?\\:@\\-_=#])*'\n",
    "        self.url_regex_comp = re.compile(url_regex, re.IGNORECASE)\n",
    "        \n",
    "    def fit(self,X,y=None):\n",
    "        return self\n",
    "\n",
    "    def transform(self,X):\n",
    "        return np.reshape([len(re.findall(self.url_regex_comp, doc)) for doc in X], (-1, 1))"
   ]
  },
  {
   "cell_type": "code",
   "execution_count": null,
   "metadata": {},
   "outputs": [],
   "source": [
    "from sklearn.preprocessing import StandardScaler\n",
    "from sklearn.pipeline import FeatureUnion\n",
    "\n",
    "stop_words = set(tokenize(' '.join(stopwords.words('english'))))\n",
    "\n",
    "scaler = StandardScaler()\n",
    "\n",
    "count_vectorizer = CountVectorizer(tokenizer=tokenize,\n",
    "                                   stop_words=stop_words,\n",
    "#                                    max_df=0.5,\n",
    "#                                    min_df=5,\n",
    "#                                    max_features=500\n",
    "                                  )\n",
    "\n",
    "tf_idf = TfidfTransformer()\n",
    "\n",
    "tf_idf_vect = Pipeline([('vect', count_vectorizer),\n",
    "                        ('tf_idf', tf_idf)\n",
    "                       ])\n",
    "\n",
    "message_length = Pipeline([('message_length', MessageLengthTransformer()),\n",
    "                           ('scaler', scaler)\n",
    "                          ])\n",
    "\n",
    "number_of_urls = Pipeline([('number_of_urls', NumberOfUrlsTransformer()),\n",
    "                           ('scaler', scaler)\n",
    "                          ])\n",
    "\n",
    "# word_vect = WordVectorVectorizer()\n",
    "\n",
    "\n",
    "\n",
    "feature_union = FeatureUnion([\n",
    "#     ('word_vect', word_vect),\n",
    "    ('tf_idf_vect', tf_idf_vect),\n",
    "    ('message_length', message_length),\n",
    "    ('number_of_urls', number_of_urls),\n",
    "])\n",
    "\n",
    "classifier = LogisticRegression(class_weight='balanced', max_iter=1000, n_jobs=-1)\n",
    "\n",
    "pipeline = Pipeline([('feature_union', feature_union),\n",
    "                     ('scaler', StandardScaler(with_mean=False)),\n",
    "                     ('clf', MultiOutputClassifier(classifier))],\n",
    "                    verbose=1)"
   ]
  },
  {
   "cell_type": "code",
   "execution_count": null,
   "metadata": {},
   "outputs": [],
   "source": [
    "# specify parameters for grid search\n",
    "\n",
    "params = [\n",
    "    {   \n",
    "        'clf__estimator': [LogisticRegression()],   \n",
    "        'clf__estimator__class_weight': ['balanced'],\n",
    "        'clf__estimator__n_jobs': [-1],\n",
    "        'clf__estimator__penalty': ['l2'],\n",
    "        'clf__estimator__max_iter': [1000],\n",
    "\n",
    "    },\n",
    "\n",
    "]\n",
    "\n",
    "\n",
    "# create grid search object\n",
    "cv = GridSearchCV(pipeline,\n",
    "                  param_grid=params,\n",
    "                  cv=2,\n",
    "                  scoring='f1_macro',\n",
    "                  verbose=1,\n",
    "                  n_jobs=-1\n",
    "                 )"
   ]
  },
  {
   "cell_type": "code",
   "execution_count": null,
   "metadata": {},
   "outputs": [],
   "source": [
    "start_time = time.time()\n",
    "cv.fit(X_train, Y_train)\n",
    "print(\"--- %s seconds ---\" % (time.time() - start_time))\n"
   ]
  },
  {
   "cell_type": "code",
   "execution_count": null,
   "metadata": {
    "scrolled": false
   },
   "outputs": [],
   "source": [
    "eval_model(cv, X_test, categories)"
   ]
  },
  {
   "cell_type": "markdown",
   "metadata": {},
   "source": [
    "### 9. Export your model as a pickle file"
   ]
  },
  {
   "cell_type": "code",
   "execution_count": null,
   "metadata": {},
   "outputs": [],
   "source": [
    "import pickle\n",
    "\n",
    "with open('classifier.pkl', 'wb') as f:\n",
    "    pickle.dump(pipeline, f)"
   ]
  },
  {
   "cell_type": "markdown",
   "metadata": {},
   "source": [
    "### 10. Use this notebook to complete `train.py`\n",
    "Use the template file attached in the Resources folder to write a script that runs the steps above to create a database and export a model based on a new dataset specified by the user."
   ]
  }
 ],
 "metadata": {
  "kernelspec": {
   "display_name": "Python 3 (ipykernel)",
   "language": "python",
   "name": "python3"
  },
  "language_info": {
   "codemirror_mode": {
    "name": "ipython",
    "version": 3
   },
   "file_extension": ".py",
   "mimetype": "text/x-python",
   "name": "python",
   "nbconvert_exporter": "python",
   "pygments_lexer": "ipython3",
   "version": "3.9.12"
  }
 },
 "nbformat": 4,
 "nbformat_minor": 2
}
